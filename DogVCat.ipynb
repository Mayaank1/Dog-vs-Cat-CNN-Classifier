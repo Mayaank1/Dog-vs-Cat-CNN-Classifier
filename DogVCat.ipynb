{
 "cells": [
  {
   "cell_type": "code",
   "execution_count": 1,
   "metadata": {},
   "outputs": [],
   "source": [
    "import tensorflow as tf\n",
    "from keras.preprocessing.image import ImageDataGenerator"
   ]
  },
  {
   "cell_type": "code",
   "execution_count": 3,
   "metadata": {},
   "outputs": [
    {
     "name": "stdout",
     "output_type": "stream",
     "text": [
      "Found 8000 images belonging to 2 classes.\n"
     ]
    }
   ],
   "source": [
    "train = ImageDataGenerator(\n",
    "    rescale=1./255,\n",
    "    shear_range=0.2,\n",
    "    zoom_range=0.2,\n",
    "    horizontal_flip=True)\n",
    "training_set = train.flow_from_directory(\n",
    "    'dataset/training_set',\n",
    "    target_size=(72,72),\n",
    "    batch_size=32,\n",
    "    class_mode='binary')\n"
   ]
  },
  {
   "cell_type": "code",
   "execution_count": 4,
   "metadata": {},
   "outputs": [
    {
     "name": "stdout",
     "output_type": "stream",
     "text": [
      "Found 2000 images belonging to 2 classes.\n"
     ]
    }
   ],
   "source": [
    "test=ImageDataGenerator(rescale=1./255)\n",
    "test_set = test.flow_from_directory(\n",
    "    'dataset/test_set',\n",
    "    target_size=(72,72),\n",
    "    batch_size=32,\n",
    "    class_mode='binary'\n",
    ")"
   ]
  },
  {
   "cell_type": "code",
   "execution_count": 5,
   "metadata": {},
   "outputs": [],
   "source": [
    "cnn = tf.keras.models.Sequential()"
   ]
  },
  {
   "cell_type": "code",
   "execution_count": 6,
   "metadata": {},
   "outputs": [],
   "source": [
    "cnn.add(tf.keras.layers.Conv2D(filters=32,kernel_size=3,activation='relu',input_shape =[72,72,3]))"
   ]
  },
  {
   "cell_type": "code",
   "execution_count": 7,
   "metadata": {},
   "outputs": [],
   "source": [
    "cnn.add(tf.keras.layers.MaxPool2D(2,strides=2))"
   ]
  },
  {
   "cell_type": "code",
   "execution_count": 8,
   "metadata": {},
   "outputs": [],
   "source": [
    "cnn.add(tf.keras.layers.Conv2D(filters=32,kernel_size=3,activation='relu'))\n",
    "cnn.add(tf.keras.layers.MaxPool2D(2,strides=2))"
   ]
  },
  {
   "cell_type": "code",
   "execution_count": 9,
   "metadata": {},
   "outputs": [],
   "source": [
    "cnn.add(tf.keras.layers.Flatten())"
   ]
  },
  {
   "cell_type": "code",
   "execution_count": 10,
   "metadata": {},
   "outputs": [],
   "source": [
    "cnn.add(tf.keras.layers.Dense(units=256,activation='relu'))"
   ]
  },
  {
   "cell_type": "code",
   "execution_count": 11,
   "metadata": {},
   "outputs": [],
   "source": [
    "cnn.add(tf.keras.layers.Dense(units=1,activation='sigmoid'))"
   ]
  },
  {
   "cell_type": "code",
   "execution_count": 12,
   "metadata": {},
   "outputs": [],
   "source": [
    "cnn.compile(optimizer='adam',loss='binary_crossentropy',metrics=['accuracy'])"
   ]
  },
  {
   "cell_type": "code",
   "execution_count": 13,
   "metadata": {},
   "outputs": [
    {
     "name": "stdout",
     "output_type": "stream",
     "text": [
      "Epoch 1/30\n",
      "250/250 [==============================] - 306s 1s/step - loss: 0.6487 - accuracy: 0.6110 - val_loss: 0.7995 - val_accuracy: 0.5675\n",
      "Epoch 2/30\n",
      "250/250 [==============================] - 33s 132ms/step - loss: 0.5826 - accuracy: 0.6910 - val_loss: 0.6548 - val_accuracy: 0.6255\n",
      "Epoch 3/30\n",
      "250/250 [==============================] - 33s 131ms/step - loss: 0.5372 - accuracy: 0.7271 - val_loss: 0.4958 - val_accuracy: 0.7565\n",
      "Epoch 4/30\n",
      "250/250 [==============================] - 35s 140ms/step - loss: 0.5118 - accuracy: 0.7410 - val_loss: 0.4992 - val_accuracy: 0.7755\n",
      "Epoch 5/30\n",
      "250/250 [==============================] - 39s 155ms/step - loss: 0.4804 - accuracy: 0.7669 - val_loss: 0.4673 - val_accuracy: 0.7755\n",
      "Epoch 6/30\n",
      "250/250 [==============================] - 57s 227ms/step - loss: 0.4607 - accuracy: 0.7807 - val_loss: 0.5876 - val_accuracy: 0.7150\n",
      "Epoch 7/30\n",
      "250/250 [==============================] - 42s 167ms/step - loss: 0.4423 - accuracy: 0.7915 - val_loss: 0.4706 - val_accuracy: 0.7815\n",
      "Epoch 8/30\n",
      "250/250 [==============================] - 45s 179ms/step - loss: 0.4247 - accuracy: 0.8026 - val_loss: 0.4493 - val_accuracy: 0.8030\n",
      "Epoch 9/30\n",
      "250/250 [==============================] - 45s 178ms/step - loss: 0.4034 - accuracy: 0.8146 - val_loss: 0.4935 - val_accuracy: 0.7740\n",
      "Epoch 10/30\n",
      "250/250 [==============================] - 44s 174ms/step - loss: 0.3979 - accuracy: 0.8135 - val_loss: 0.5509 - val_accuracy: 0.7690\n",
      "Epoch 11/30\n",
      "250/250 [==============================] - 42s 169ms/step - loss: 0.3796 - accuracy: 0.8319 - val_loss: 0.4675 - val_accuracy: 0.7870\n",
      "Epoch 12/30\n",
      "250/250 [==============================] - 36s 146ms/step - loss: 0.3698 - accuracy: 0.8295 - val_loss: 0.4408 - val_accuracy: 0.8060\n",
      "Epoch 13/30\n",
      "250/250 [==============================] - 43s 172ms/step - loss: 0.3516 - accuracy: 0.8439 - val_loss: 0.4227 - val_accuracy: 0.8090\n",
      "Epoch 14/30\n",
      "250/250 [==============================] - 36s 144ms/step - loss: 0.3420 - accuracy: 0.8475 - val_loss: 0.4404 - val_accuracy: 0.8070\n",
      "Epoch 15/30\n",
      "250/250 [==============================] - 46s 183ms/step - loss: 0.3258 - accuracy: 0.8566 - val_loss: 0.4835 - val_accuracy: 0.7960\n",
      "Epoch 16/30\n",
      "250/250 [==============================] - 36s 145ms/step - loss: 0.3131 - accuracy: 0.8576 - val_loss: 0.4502 - val_accuracy: 0.8115\n",
      "Epoch 17/30\n",
      "250/250 [==============================] - 41s 166ms/step - loss: 0.2959 - accuracy: 0.8687 - val_loss: 0.4466 - val_accuracy: 0.8110\n",
      "Epoch 18/30\n",
      "250/250 [==============================] - 39s 155ms/step - loss: 0.2926 - accuracy: 0.8741 - val_loss: 0.4737 - val_accuracy: 0.8035\n",
      "Epoch 19/30\n",
      "250/250 [==============================] - 43s 171ms/step - loss: 0.2747 - accuracy: 0.8839 - val_loss: 0.4605 - val_accuracy: 0.8220\n",
      "Epoch 20/30\n",
      "250/250 [==============================] - 37s 147ms/step - loss: 0.2599 - accuracy: 0.8890 - val_loss: 0.5295 - val_accuracy: 0.7855\n",
      "Epoch 21/30\n",
      "250/250 [==============================] - 45s 179ms/step - loss: 0.2417 - accuracy: 0.8984 - val_loss: 0.5127 - val_accuracy: 0.8065\n",
      "Epoch 22/30\n",
      "250/250 [==============================] - 36s 145ms/step - loss: 0.2304 - accuracy: 0.9024 - val_loss: 0.5039 - val_accuracy: 0.8115\n",
      "Epoch 23/30\n",
      "250/250 [==============================] - 44s 175ms/step - loss: 0.2246 - accuracy: 0.9053 - val_loss: 0.5079 - val_accuracy: 0.8050\n",
      "Epoch 24/30\n",
      "250/250 [==============================] - 38s 151ms/step - loss: 0.2130 - accuracy: 0.9139 - val_loss: 0.5138 - val_accuracy: 0.7980\n",
      "Epoch 25/30\n",
      "250/250 [==============================] - 44s 177ms/step - loss: 0.2068 - accuracy: 0.9144 - val_loss: 0.5229 - val_accuracy: 0.8115\n",
      "Epoch 26/30\n",
      "250/250 [==============================] - 38s 152ms/step - loss: 0.1865 - accuracy: 0.9233 - val_loss: 0.5697 - val_accuracy: 0.8050\n",
      "Epoch 27/30\n",
      "250/250 [==============================] - 41s 163ms/step - loss: 0.1814 - accuracy: 0.9273 - val_loss: 0.5585 - val_accuracy: 0.8050\n",
      "Epoch 28/30\n",
      "250/250 [==============================] - 39s 157ms/step - loss: 0.1722 - accuracy: 0.9311 - val_loss: 0.6467 - val_accuracy: 0.7895\n",
      "Epoch 29/30\n",
      "250/250 [==============================] - 40s 159ms/step - loss: 0.1671 - accuracy: 0.9354 - val_loss: 0.5660 - val_accuracy: 0.8095\n",
      "Epoch 30/30\n",
      "250/250 [==============================] - 42s 166ms/step - loss: 0.1594 - accuracy: 0.9358 - val_loss: 0.6031 - val_accuracy: 0.8080\n"
     ]
    },
    {
     "data": {
      "text/plain": [
       "<keras.src.callbacks.History at 0x19a77ecf050>"
      ]
     },
     "execution_count": 13,
     "metadata": {},
     "output_type": "execute_result"
    }
   ],
   "source": [
    "cnn.fit(x = training_set,validation_data=test_set,epochs=30)"
   ]
  },
  {
   "cell_type": "code",
   "execution_count": 23,
   "metadata": {},
   "outputs": [
    {
     "name": "stdout",
     "output_type": "stream",
     "text": [
      "1/1 [==============================] - 0s 30ms/step\n"
     ]
    }
   ],
   "source": [
    "import numpy as np\n",
    "from keras.preprocessing import image\n",
    "test_image=image.load_img('test3.jpg', target_size=(72,72))\n",
    "test_image = image.img_to_array(test_image)\n",
    "test_image= np.expand_dims(test_image,axis=0)\n",
    "result =cnn.predict(test_image)\n",
    "training_set.class_indices\n",
    "if result[0][0]==1:\n",
    "    prediction ='dog'\n",
    "else:\n",
    "    prediction='cat'"
   ]
  },
  {
   "cell_type": "code",
   "execution_count": 24,
   "metadata": {},
   "outputs": [
    {
     "name": "stdout",
     "output_type": "stream",
     "text": [
      "cat\n"
     ]
    }
   ],
   "source": [
    "print(prediction)"
   ]
  }
 ],
 "metadata": {
  "kernelspec": {
   "display_name": "Python 3",
   "language": "python",
   "name": "python3"
  },
  "language_info": {
   "codemirror_mode": {
    "name": "ipython",
    "version": 3
   },
   "file_extension": ".py",
   "mimetype": "text/x-python",
   "name": "python",
   "nbconvert_exporter": "python",
   "pygments_lexer": "ipython3",
   "version": "3.11.4"
  }
 },
 "nbformat": 4,
 "nbformat_minor": 2
}
